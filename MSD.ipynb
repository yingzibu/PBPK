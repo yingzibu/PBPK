{
  "nbformat": 4,
  "nbformat_minor": 0,
  "metadata": {
    "colab": {
      "provenance": [],
      "authorship_tag": "ABX9TyM7Glbe7cpEUKZq3Mng18+W",
      "include_colab_link": true
    },
    "kernelspec": {
      "name": "python3",
      "display_name": "Python 3"
    },
    "language_info": {
      "name": "python"
    }
  },
  "cells": [
    {
      "cell_type": "markdown",
      "metadata": {
        "id": "view-in-github",
        "colab_type": "text"
      },
      "source": [
        "<a href=\"https://colab.research.google.com/github/yingzibu/PBPK/blob/main/MSD.ipynb\" target=\"_parent\"><img src=\"https://colab.research.google.com/assets/colab-badge.svg\" alt=\"Open In Colab\"/></a>"
      ]
    },
    {
      "cell_type": "markdown",
      "source": [
        "Tsong, Yi, et al. \"Statistical assessment of mean differences between two dissolution data sets.\" Drug Information Journal 30.4 (1996): 1105-1112.\n",
        "\n",
        "https://search.r-project.org/CRAN/refmans/disprofas/html/mimcr.html\n",
        "\n",
        "\n",
        "http://forum.bebac.at/mix_entry.php?id=12382"
      ],
      "metadata": {
        "id": "LUAsqA_W9IBa"
      }
    },
    {
      "cell_type": "markdown",
      "source": [
        "## Single time point dissolution value"
      ],
      "metadata": {
        "id": "408S0x1YfdlJ"
      }
    },
    {
      "cell_type": "markdown",
      "source": [
        "For most IR drug products, the dissolution is rapid and the quality control dissolution requirement is only a single time point.\n",
        "\n",
        "\n",
        "12 tablets of test and reference:"
      ],
      "metadata": {
        "id": "Z4ibVISu9Olx"
      }
    },
    {
      "cell_type": "code",
      "source": [
        "import pandas as pd\n",
        "import numpy as np\n",
        "import scipy.stats\n",
        "test_batch = [76.5, 79.6, 82.1, 78.9, 81.5, 77.6, 79.8, 83.4, 80.2, 75.8, 81.2, 80.5]\n",
        "ref_batch  = [85.3, 83.5, 82.5, 81.4, 84.4, 79.0, 80.5, 78.5, 85.3, 81.5, 79.9, 83.2]\n",
        "assert len(test_batch) == len(ref_batch)"
      ],
      "metadata": {
        "id": "Ca99a-cr9QnR"
      },
      "execution_count": null,
      "outputs": []
    },
    {
      "cell_type": "code",
      "execution_count": null,
      "metadata": {
        "colab": {
          "base_uri": "https://localhost:8080/"
        },
        "id": "BeCm8SU29A26",
        "outputId": "a0d6af2f-4889-4a8b-8e69-7c417e329a0a"
      },
      "outputs": [
        {
          "output_type": "execute_result",
          "data": {
            "text/plain": [
              "(79.75833333333334, 2.2625240665051845)"
            ]
          },
          "metadata": {},
          "execution_count": 2
        }
      ],
      "source": [
        "\n",
        "# Should not use np.std default\n",
        "def cal_std(l:list):\n",
        "    mean_ = np.mean(l)\n",
        "    # len_ = len(l)\n",
        "    temp_list = [(i-mean_ )**2 for i in l]\n",
        "    std_ = np.sqrt(sum(temp_list)/(len(l)-1))\n",
        "    return std_\n",
        "\n",
        "test_mean = np.mean(test_batch)\n",
        "test_std  = np.std(test_batch, ddof=1)\n",
        "\n",
        "ref_mean  = np.mean(ref_batch)\n",
        "ref_std   = np.std(ref_batch, ddof=1)\n",
        "test_mean, test_std"
      ]
    },
    {
      "cell_type": "code",
      "source": [
        "D = np.abs(ref_mean-test_mean)\n",
        "stderr_D = np.sqrt((ref_std**2 + test_std**2)/(len(test_batch)-1))\n",
        "freedom = 2 * len(test_batch) - 2\n",
        "\n",
        "stderr_D"
      ],
      "metadata": {
        "colab": {
          "base_uri": "https://localhost:8080/"
        },
        "id": "o_-fECca-NRX",
        "outputId": "059896b3-b09e-4776-f22b-83bb53a80990"
      },
      "execution_count": null,
      "outputs": [
        {
          "output_type": "execute_result",
          "data": {
            "text/plain": [
              "0.980073505985641"
            ]
          },
          "metadata": {},
          "execution_count": 3
        }
      ]
    },
    {
      "cell_type": "markdown",
      "source": [
        "t 95 22 = 1.717 check t distribution table\n",
        "\n",
        "The 90% confidence interval of D would be the interval that contains all the differences $\\mu_1 - \\mu_2$ such that\n",
        "\n",
        "$$|\\frac{\\mu_1 - \\mu_2 - D}{stderr(d)}| \\leq t22.95$$"
      ],
      "metadata": {
        "id": "0sgaGtedelia"
      }
    },
    {
      "cell_type": "code",
      "source": [
        "t = 1.717\n",
        "L90 = D - t * stderr_D\n",
        "U90 = D + t * stderr_D\n",
        "\n",
        "L90, U90"
      ],
      "metadata": {
        "colab": {
          "base_uri": "https://localhost:8080/"
        },
        "id": "9NYP2PCieBf5",
        "outputId": "aff6519a-338c-4ef5-939a-f62c1f30237a"
      },
      "execution_count": null,
      "outputs": [
        {
          "output_type": "execute_result",
          "data": {
            "text/plain": [
              "(0.642213790222643, 4.0077862097773345)"
            ]
          },
          "metadata": {},
          "execution_count": 4
        }
      ]
    },
    {
      "cell_type": "markdown",
      "source": [
        "## Multiple time point dissolution"
      ],
      "metadata": {
        "id": "lFwgwPdjd_AA"
      }
    },
    {
      "cell_type": "code",
      "source": [
        "ref_df = pd.DataFrame()\n",
        "ref_df['5'] = pd.DataFrame([42.06, 44.16, 45.63, 48.52, 50.49, 49.77])\n",
        "ref_df['10'] = pd.DataFrame([59.91, 60.18, 55.77, 60.39, 61.82, 62.73])\n",
        "ref_df['15'] = pd.DataFrame([65.58, 67.17, 65.56, 66.51, 69.06, 69.77])\n",
        "ref_df['20'] = pd.DataFrame([71.81, 70.82, 70.50, 73.06, 72.85, 72.88])\n",
        "ref_df['30'] = pd.DataFrame([77.77, 76.11, 76.92, 78.54, 78.99, 80.18])\n",
        "ref_df['60'] = pd.DataFrame([85.67, 83.27, 83.91, 84.99, 86.86, 84.20])\n",
        "ref_df['90'] = pd.DataFrame([93.14, 88.01, 86.83, 88.00, 89.70, 88.88])\n",
        "ref_df['120'] = pd.DataFrame([94.23, 89.59, 90.12, 93.43, 90.79, 90.47])\n",
        "ref_df, ref_df.mean(axis=0)"
      ],
      "metadata": {
        "colab": {
          "base_uri": "https://localhost:8080/"
        },
        "id": "4GfOk8feejwg",
        "outputId": "46192ac3-6805-4eef-f287-9c72151b5a62"
      },
      "execution_count": null,
      "outputs": [
        {
          "output_type": "execute_result",
          "data": {
            "text/plain": [
              "(       5     10     15     20     30     60     90    120\n",
              " 0  42.06  59.91  65.58  71.81  77.77  85.67  93.14  94.23\n",
              " 1  44.16  60.18  67.17  70.82  76.11  83.27  88.01  89.59\n",
              " 2  45.63  55.77  65.56  70.50  76.92  83.91  86.83  90.12\n",
              " 3  48.52  60.39  66.51  73.06  78.54  84.99  88.00  93.43\n",
              " 4  50.49  61.82  69.06  72.85  78.99  86.86  89.70  90.79\n",
              " 5  49.77  62.73  69.77  72.88  80.18  84.20  88.88  90.47,\n",
              " 5      46.771667\n",
              " 10     60.133333\n",
              " 15     67.275000\n",
              " 20     71.986667\n",
              " 30     78.085000\n",
              " 60     84.816667\n",
              " 90     89.093333\n",
              " 120    91.438333\n",
              " dtype: float64)"
            ]
          },
          "metadata": {},
          "execution_count": 9
        }
      ]
    },
    {
      "cell_type": "code",
      "source": [
        "test_df = pd.DataFrame()\n",
        "test_df['5'] = pd.DataFrame([19.99, 22.08, 21.93, 22.44, 25.67, 26.37])\n",
        "test_df['10'] = pd.DataFrame([36.70, 39.29, 38.54, 38.46, 42.35, 41.34])\n",
        "test_df['15'] = pd.DataFrame([47.77, 49.46, 47.76, 49.72, 52.68, 51.01])\n",
        "test_df['20'] = pd.DataFrame([55.08, 56.79, 55.14, 58.67, 59.71, 57.75])\n",
        "test_df['30'] = pd.DataFrame([65.69, 67.22, 65.25, 69.21, 71.51, 69.44])\n",
        "test_df['60'] = pd.DataFrame([81.37, 82.42, 83.49, 84.93, 86.61, 85.90])\n",
        "test_df['90'] = pd.DataFrame([92.39, 89.93, 90.19, 94.12, 93.80, 94.45])\n",
        "test_df['120'] = pd.DataFrame([97.10, 95.62, 95.62, 95.51, 96.70, 98.07])\n",
        "test_df, test_df.mean(axis=0)"
      ],
      "metadata": {
        "colab": {
          "base_uri": "https://localhost:8080/"
        },
        "id": "hYKntqk7cil_",
        "outputId": "2e9d79dd-10c6-444f-8523-ca87f108db36"
      },
      "execution_count": null,
      "outputs": [
        {
          "output_type": "execute_result",
          "data": {
            "text/plain": [
              "(       5     10     15     20     30     60     90    120\n",
              " 0  19.99  36.70  47.77  55.08  65.69  81.37  92.39  97.10\n",
              " 1  22.08  39.29  49.46  56.79  67.22  82.42  89.93  95.62\n",
              " 2  21.93  38.54  47.76  55.14  65.25  83.49  90.19  95.62\n",
              " 3  22.44  38.46  49.72  58.67  69.21  84.93  94.12  95.51\n",
              " 4  25.67  42.35  52.68  59.71  71.51  86.61  93.80  96.70\n",
              " 5  26.37  41.34  51.01  57.75  69.44  85.90  94.45  98.07,\n",
              " 5      23.080000\n",
              " 10     39.446667\n",
              " 15     49.733333\n",
              " 20     57.190000\n",
              " 30     68.053333\n",
              " 60     84.120000\n",
              " 90     92.480000\n",
              " 120    96.436667\n",
              " dtype: float64)"
            ]
          },
          "metadata": {},
          "execution_count": 10
        }
      ]
    },
    {
      "cell_type": "code",
      "source": [
        "import matplotlib.pyplot as plt\n",
        "\n",
        "x_axis = [int(i) for i in list(ref_df.columns)]\n",
        "test_axis = list(test_df.mean(axis=0))\n",
        "ref_axis = list(ref_df.mean(axis=0))\n",
        "plt.plot(x_axis, test_axis, label='test batch')\n",
        "plt.plot(x_axis, ref_axis, label='ref batch')\n",
        "plt.xlabel('time in minutes')\n",
        "plt.ylabel('% dissolved')\n",
        "plt.title('Mean distribution of the test and reference batches')\n",
        "plt.legend()\n",
        "plt.show()\n",
        "plt.close()"
      ],
      "metadata": {
        "colab": {
          "base_uri": "https://localhost:8080/",
          "height": 472
        },
        "id": "KNQvSTNCdC-7",
        "outputId": "f7778867-6e5e-4026-f764-24ae25101588"
      },
      "execution_count": null,
      "outputs": [
        {
          "output_type": "display_data",
          "data": {
            "text/plain": [
              "<Figure size 640x480 with 1 Axes>"
            ],
            "image/png": "[encoded data removed]"
          },
          "metadata": {}
        }
      ]
    },
    {
      "cell_type": "markdown",
      "source": [
        "### comparing 15min and 90 min sample time points only"
      ],
      "metadata": {
        "id": "R50l-kGajBKq"
      }
    },
    {
      "cell_type": "code",
      "source": [
        "time_points = ['15', '90']\n",
        "P = len(time_points)\n",
        "n = len(ref_df) # there are a total of 6 time points, but we only compare 2 time points\n",
        "S1 = ref_df.cov()\n",
        "S2 = test_df.cov()\n",
        "S_pooled = (S1 + S2) / 2\n",
        "S_pooled"
      ],
      "metadata": {
        "colab": {
          "base_uri": "https://localhost:8080/",
          "height": 300
        },
        "id": "Ba04MnKViH-C",
        "outputId": "30b3a6e1-c1e3-4fab-da41-08a50945db06"
      },
      "execution_count": null,
      "outputs": [
        {
          "output_type": "execute_result",
          "data": {
            "text/plain": [
              "            5        10        15        20        30        60        90  \\\n",
              "5    8.600908  4.448457  4.344905  3.004123  4.254885  2.981463  0.036347   \n",
              "10   4.448457  5.012247  3.535987  2.515637  3.282827  2.377407  1.777713   \n",
              "15   4.344905  3.535987  3.395808  2.233850  3.157388  1.895300  1.029870   \n",
              "20   3.004123  2.515637  2.233850  2.396693  2.949900  2.064523  1.583467   \n",
              "30   4.254885  3.282827  3.157388  2.949900  4.011988  2.617250  2.105510   \n",
              "60   2.981463  2.377407  1.895300  2.064523  2.617250  2.940193  2.250947   \n",
              "90   0.036347  1.777713  1.029870  1.583467  2.105510  2.250947  4.434833   \n",
              "120 -0.229818  0.576357 -0.396778  0.514407  0.610332  0.894497  1.985733   \n",
              "\n",
              "          120  \n",
              "5   -0.229818  \n",
              "10   0.576357  \n",
              "15  -0.396778  \n",
              "20   0.514407  \n",
              "30   0.610332  \n",
              "60   0.894497  \n",
              "90   1.985733  \n",
              "120  2.364222  "
            ],
            "text/html": [
              "\n",
              "  <div id=\"df-08e1a9c5-c5c3-4a2c-8ffa-6e762d33116b\" class=\"colab-df-container\">\n",
              "    <div>\n",
              "<style scoped>\n",
              "    .dataframe tbody tr th:only-of-type {\n",
              "        vertical-align: middle;\n",
              "    }\n",
              "\n",
              "    .dataframe tbody tr th {\n",
              "        vertical-align: top;\n",
              "    }\n",
              "\n",
              "    .dataframe thead th {\n",
              "        text-align: right;\n",
              "    }\n",
              "</style>\n",
              "<table border=\"1\" class=\"dataframe\">\n",
              "  <thead>\n",
              "    <tr style=\"text-align: right;\">\n",
              "      <th></th>\n",
              "      <th>5</th>\n",
              "      <th>10</th>\n",
              "      <th>15</th>\n",
              "      <th>20</th>\n",
              "      <th>30</th>\n",
              "      <th>60</th>\n",
              "      <th>90</th>\n",
              "      <th>120</th>\n",
              "    </tr>\n",
              "  </thead>\n",
              "  <tbody>\n",
              "    <tr>\n",
              "      <th>5</th>\n",
              "      <td>8.600908</td>\n",
              "      <td>4.448457</td>\n",
              "      <td>4.344905</td>\n",
              "      <td>3.004123</td>\n",
              "      <td>4.254885</td>\n",
              "      <td>2.981463</td>\n",
              "      <td>0.036347</td>\n",
              "      <td>-0.229818</td>\n",
              "    </tr>\n",
              "    <tr>\n",
              "      <th>10</th>\n",
              "      <td>4.448457</td>\n",
              "      <td>5.012247</td>\n",
              "      <td>3.535987</td>\n",
              "      <td>2.515637</td>\n",
              "      <td>3.282827</td>\n",
              "      <td>2.377407</td>\n",
              "      <td>1.777713</td>\n",
              "      <td>0.576357</td>\n",
              "    </tr>\n",
              "    <tr>\n",
              "      <th>15</th>\n",
              "      <td>4.344905</td>\n",
              "      <td>3.535987</td>\n",
              "      <td>3.395808</td>\n",
              "      <td>2.233850</td>\n",
              "      <td>3.157388</td>\n",
              "      <td>1.895300</td>\n",
              "      <td>1.029870</td>\n",
              "      <td>-0.396778</td>\n",
              "    </tr>\n",
              "    <tr>\n",
              "      <th>20</th>\n",
              "      <td>3.004123</td>\n",
              "      <td>2.515637</td>\n",
              "      <td>2.233850</td>\n",
              "      <td>2.396693</td>\n",
              "      <td>2.949900</td>\n",
              "      <td>2.064523</td>\n",
              "      <td>1.583467</td>\n",
              "      <td>0.514407</td>\n",
              "    </tr>\n",
              "    <tr>\n",
              "      <th>30</th>\n",
              "      <td>4.254885</td>\n",
              "      <td>3.282827</td>\n",
              "      <td>3.157388</td>\n",
              "      <td>2.949900</td>\n",
              "      <td>4.011988</td>\n",
              "      <td>2.617250</td>\n",
              "      <td>2.105510</td>\n",
              "      <td>0.610332</td>\n",
              "    </tr>\n",
              "    <tr>\n",
              "      <th>60</th>\n",
              "      <td>2.981463</td>\n",
              "      <td>2.377407</td>\n",
              "      <td>1.895300</td>\n",
              "      <td>2.064523</td>\n",
              "      <td>2.617250</td>\n",
              "      <td>2.940193</td>\n",
              "      <td>2.250947</td>\n",
              "      <td>0.894497</td>\n",
              "    </tr>\n",
              "    <tr>\n",
              "      <th>90</th>\n",
              "      <td>0.036347</td>\n",
              "      <td>1.777713</td>\n",
              "      <td>1.029870</td>\n",
              "      <td>1.583467</td>\n",
              "      <td>2.105510</td>\n",
              "      <td>2.250947</td>\n",
              "      <td>4.434833</td>\n",
              "      <td>1.985733</td>\n",
              "    </tr>\n",
              "    <tr>\n",
              "      <th>120</th>\n",
              "      <td>-0.229818</td>\n",
              "      <td>0.576357</td>\n",
              "      <td>-0.396778</td>\n",
              "      <td>0.514407</td>\n",
              "      <td>0.610332</td>\n",
              "      <td>0.894497</td>\n",
              "      <td>1.985733</td>\n",
              "      <td>2.364222</td>\n",
              "    </tr>\n",
              "  </tbody>\n",
              "</table>\n",
              "</div>\n",
              "    <div class=\"colab-df-buttons\">\n",
              "\n",
              "  <div class=\"colab-df-container\">\n",
              "    <button class=\"colab-df-convert\" onclick=\"convertToInteractive('df-08e1a9c5-c5c3-4a2c-8ffa-6e762d33116b')\"\n",
              "            title=\"Convert this dataframe to an interactive table.\"\n",
              "            style=\"display:none;\">\n",
              "\n",
              "  <svg xmlns=\"http://www.w3.org/2000/svg\" height=\"24px\" viewBox=\"0 -960 960 960\">\n",
              "    <path d=\"M120-120v-720h720v720H120Zm60-500h600v-160H180v160Zm220 220h160v-160H400v160Zm0 220h160v-160H400v160ZM180-400h160v-160H180v160Zm440 0h160v-160H620v160ZM180-180h160v-160H180v160Zm440 0h160v-160H620v160Z\"/>\n",
              "  </svg>\n",
              "    </button>\n",
              "\n",
              "  <style>\n",
              "    .colab-df-container {\n",
              "      display:flex;\n",
              "      gap: 12px;\n",
              "    }\n",
              "\n",
              "    .colab-df-convert {\n",
              "      background-color: #E8F0FE;\n",
              "      border: none;\n",
              "      border-radius: 50%;\n",
              "      cursor: pointer;\n",
              "      display: none;\n",
              "      fill: #1967D2;\n",
              "      height: 32px;\n",
              "      padding: 0 0 0 0;\n",
              "      width: 32px;\n",
              "    }\n",
              "\n",
              "    .colab-df-convert:hover {\n",
              "      background-color: #E2EBFA;\n",
              "      box-shadow: 0px 1px 2px rgba(60, 64, 67, 0.3), 0px 1px 3px 1px rgba(60, 64, 67, 0.15);\n",
              "      fill: #174EA6;\n",
              "    }\n",
              "\n",
              "    .colab-df-buttons div {\n",
              "      margin-bottom: 4px;\n",
              "    }\n",
              "\n",
              "    [theme=dark] .colab-df-convert {\n",
              "      background-color: #3B4455;\n",
              "      fill: #D2E3FC;\n",
              "    }\n",
              "\n",
              "    [theme=dark] .colab-df-convert:hover {\n",
              "      background-color: #434B5C;\n",
              "      box-shadow: 0px 1px 3px 1px rgba(0, 0, 0, 0.15);\n",
              "      filter: drop-shadow(0px 1px 2px rgba(0, 0, 0, 0.3));\n",
              "      fill: #FFFFFF;\n",
              "    }\n",
              "  </style>\n",
              "\n",
              "    <script>\n",
              "      const buttonEl =\n",
              "        document.querySelector('#df-08e1a9c5-c5c3-4a2c-8ffa-6e762d33116b button.colab-df-convert');\n",
              "      buttonEl.style.display =\n",
              "        google.colab.kernel.accessAllowed ? 'block' : 'none';\n",
              "\n",
              "      async function convertToInteractive(key) {\n",
              "        const element = document.querySelector('#df-08e1a9c5-c5c3-4a2c-8ffa-6e762d33116b');\n",
              "        const dataTable =\n",
              "          await google.colab.kernel.invokeFunction('convertToInteractive',\n",
              "                                                    [key], {});\n",
              "        if (!dataTable) return;\n",
              "\n",
              "        const docLinkHtml = 'Like what you see? Visit the ' +\n",
              "          '<a target=\"_blank\" href=https://colab.research.google.com/notebooks/data_table.ipynb>data table notebook</a>'\n",
              "          + ' to learn more about interactive tables.';\n",
              "        element.innerHTML = '';\n",
              "        dataTable['output_type'] = 'display_data';\n",
              "        await google.colab.output.renderOutput(dataTable, element);\n",
              "        const docLink = document.createElement('div');\n",
              "        docLink.innerHTML = docLinkHtml;\n",
              "        element.appendChild(docLink);\n",
              "      }\n",
              "    </script>\n",
              "  </div>\n",
              "\n",
              "\n",
              "<div id=\"df-68aa0e4d-e840-48c5-a4c1-a22cc38e2604\">\n",
              "  <button class=\"colab-df-quickchart\" onclick=\"quickchart('df-68aa0e4d-e840-48c5-a4c1-a22cc38e2604')\"\n",
              "            title=\"Suggest charts\"\n",
              "            style=\"display:none;\">\n",
              "\n",
              "<svg xmlns=\"http://www.w3.org/2000/svg\" height=\"24px\"viewBox=\"0 0 24 24\"\n",
              "     width=\"24px\">\n",
              "    <g>\n",
              "        <path d=\"M19 3H5c-1.1 0-2 .9-2 2v14c0 1.1.9 2 2 2h14c1.1 0 2-.9 2-2V5c0-1.1-.9-2-2-2zM9 17H7v-7h2v7zm4 0h-2V7h2v10zm4 0h-2v-4h2v4z\"/>\n",
              "    </g>\n",
              "</svg>\n",
              "  </button>\n",
              "\n",
              "<style>\n",
              "  .colab-df-quickchart {\n",
              "      --bg-color: #E8F0FE;\n",
              "      --fill-color: #1967D2;\n",
              "      --hover-bg-color: #E2EBFA;\n",
              "      --hover-fill-color: #174EA6;\n",
              "      --disabled-fill-color: #AAA;\n",
              "      --disabled-bg-color: #DDD;\n",
              "  }\n",
              "\n",
              "  [theme=dark] .colab-df-quickchart {\n",
              "      --bg-color: #3B4455;\n",
              "      --fill-color: #D2E3FC;\n",
              "      --hover-bg-color: #434B5C;\n",
              "      --hover-fill-color: #FFFFFF;\n",
              "      --disabled-bg-color: #3B4455;\n",
              "      --disabled-fill-color: #666;\n",
              "  }\n",
              "\n",
              "  .colab-df-quickchart {\n",
              "    background-color: var(--bg-color);\n",
              "    border: none;\n",
              "    border-radius: 50%;\n",
              "    cursor: pointer;\n",
              "    display: none;\n",
              "    fill: var(--fill-color);\n",
              "    height: 32px;\n",
              "    padding: 0;\n",
              "    width: 32px;\n",
              "  }\n",
              "\n",
              "  .colab-df-quickchart:hover {\n",
              "    background-color: var(--hover-bg-color);\n",
              "    box-shadow: 0 1px 2px rgba(60, 64, 67, 0.3), 0 1px 3px 1px rgba(60, 64, 67, 0.15);\n",
              "    fill: var(--button-hover-fill-color);\n",
              "  }\n",
              "\n",
              "  .colab-df-quickchart-complete:disabled,\n",
              "  .colab-df-quickchart-complete:disabled:hover {\n",
              "    background-color: var(--disabled-bg-color);\n",
              "    fill: var(--disabled-fill-color);\n",
              "    box-shadow: none;\n",
              "  }\n",
              "\n",
              "  .colab-df-spinner {\n",
              "    border: 2px solid var(--fill-color);\n",
              "    border-color: transparent;\n",
              "    border-bottom-color: var(--fill-color);\n",
              "    animation:\n",
              "      spin 1s steps(1) infinite;\n",
              "  }\n",
              "\n",
              "  @keyframes spin {\n",
              "    0% {\n",
              "      border-color: transparent;\n",
              "      border-bottom-color: var(--fill-color);\n",
              "      border-left-color: var(--fill-color);\n",
              "    }\n",
              "    20% {\n",
              "      border-color: transparent;\n",
              "      border-left-color: var(--fill-color);\n",
              "      border-top-color: var(--fill-color);\n",
              "    }\n",
              "    30% {\n",
              "      border-color: transparent;\n",
              "      border-left-color: var(--fill-color);\n",
              "      border-top-color: var(--fill-color);\n",
              "      border-right-color: var(--fill-color);\n",
              "    }\n",
              "    40% {\n",
              "      border-color: transparent;\n",
              "      border-right-color: var(--fill-color);\n",
              "      border-top-color: var(--fill-color);\n",
              "    }\n",
              "    60% {\n",
              "      border-color: transparent;\n",
              "      border-right-color: var(--fill-color);\n",
              "    }\n",
              "    80% {\n",
              "      border-color: transparent;\n",
              "      border-right-color: var(--fill-color);\n",
              "      border-bottom-color: var(--fill-color);\n",
              "    }\n",
              "    90% {\n",
              "      border-color: transparent;\n",
              "      border-bottom-color: var(--fill-color);\n",
              "    }\n",
              "  }\n",
              "</style>\n",
              "\n",
              "  <script>\n",
              "    async function quickchart(key) {\n",
              "      const quickchartButtonEl =\n",
              "        document.querySelector('#' + key + ' button');\n",
              "      quickchartButtonEl.disabled = true;  // To prevent multiple clicks.\n",
              "      quickchartButtonEl.classList.add('colab-df-spinner');\n",
              "      try {\n",
              "        const charts = await google.colab.kernel.invokeFunction(\n",
              "            'suggestCharts', [key], {});\n",
              "      } catch (error) {\n",
              "        console.error('Error during call to suggestCharts:', error);\n",
              "      }\n",
              "      quickchartButtonEl.classList.remove('colab-df-spinner');\n",
              "      quickchartButtonEl.classList.add('colab-df-quickchart-complete');\n",
              "    }\n",
              "    (() => {\n",
              "      let quickchartButtonEl =\n",
              "        document.querySelector('#df-68aa0e4d-e840-48c5-a4c1-a22cc38e2604 button');\n",
              "      quickchartButtonEl.style.display =\n",
              "        google.colab.kernel.accessAllowed ? 'block' : 'none';\n",
              "    })();\n",
              "  </script>\n",
              "</div>\n",
              "\n",
              "  <div id=\"id_fccc79b9-fe62-4534-840b-ae2b46e5a9fb\">\n",
              "    <style>\n",
              "      .colab-df-generate {\n",
              "        background-color: #E8F0FE;\n",
              "        border: none;\n",
              "        border-radius: 50%;\n",
              "        cursor: pointer;\n",
              "        display: none;\n",
              "        fill: #1967D2;\n",
              "        height: 32px;\n",
              "        padding: 0 0 0 0;\n",
              "        width: 32px;\n",
              "      }\n",
              "\n",
              "      .colab-df-generate:hover {\n",
              "        background-color: #E2EBFA;\n",
              "        box-shadow: 0px 1px 2px rgba(60, 64, 67, 0.3), 0px 1px 3px 1px rgba(60, 64, 67, 0.15);\n",
              "        fill: #174EA6;\n",
              "      }\n",
              "\n",
              "      [theme=dark] .colab-df-generate {\n",
              "        background-color: #3B4455;\n",
              "        fill: #D2E3FC;\n",
              "      }\n",
              "\n",
              "      [theme=dark] .colab-df-generate:hover {\n",
              "        background-color: #434B5C;\n",
              "        box-shadow: 0px 1px 3px 1px rgba(0, 0, 0, 0.15);\n",
              "        filter: drop-shadow(0px 1px 2px rgba(0, 0, 0, 0.3));\n",
              "        fill: #FFFFFF;\n",
              "      }\n",
              "    </style>\n",
              "    <button class=\"colab-df-generate\" onclick=\"generateWithVariable('S_pooled')\"\n",
              "            title=\"Generate code using this dataframe.\"\n",
              "            style=\"display:none;\">\n",
              "\n",
              "  <svg xmlns=\"http://www.w3.org/2000/svg\" height=\"24px\"viewBox=\"0 0 24 24\"\n",
              "       width=\"24px\">\n",
              "    <path d=\"M7,19H8.4L18.45,9,17,7.55,7,17.6ZM5,21V16.75L18.45,3.32a2,2,0,0,1,2.83,0l1.4,1.43a1.91,1.91,0,0,1,.58,1.4,1.91,1.91,0,0,1-.58,1.4L9.25,21ZM18.45,9,17,7.55Zm-12,3A5.31,5.31,0,0,0,4.9,8.1,5.31,5.31,0,0,0,1,6.5,5.31,5.31,0,0,0,4.9,4.9,5.31,5.31,0,0,0,6.5,1,5.31,5.31,0,0,0,8.1,4.9,5.31,5.31,0,0,0,12,6.5,5.46,5.46,0,0,0,6.5,12Z\"/>\n",
              "  </svg>\n",
              "    </button>\n",
              "    <script>\n",
              "      (() => {\n",
              "      const buttonEl =\n",
              "        document.querySelector('#id_fccc79b9-fe62-4534-840b-ae2b46e5a9fb button.colab-df-generate');\n",
              "      buttonEl.style.display =\n",
              "        google.colab.kernel.accessAllowed ? 'block' : 'none';\n",
              "\n",
              "      buttonEl.onclick = () => {\n",
              "        google.colab.notebook.generateWithVariable('S_pooled');\n",
              "      }\n",
              "      })();\n",
              "    </script>\n",
              "  </div>\n",
              "\n",
              "    </div>\n",
              "  </div>\n"
            ],
            "application/vnd.google.colaboratory.intrinsic+json": {
              "type": "dataframe",
              "variable_name": "S_pooled",
              "summary": "{\n  \"name\": \"S_pooled\",\n  \"rows\": 8,\n  \"fields\": [\n    {\n      \"column\": \"5\",\n      \"properties\": {\n        \"dtype\": \"number\",\n        \"std\": 2.7925089193016337,\n        \"min\": -0.22981833333333312,\n        \"max\": 8.60090833333334,\n        \"num_unique_values\": 8,\n        \"samples\": [\n          4.448456666666669,\n          2.981463333333336,\n          8.60090833333334\n        ],\n        \"semantic_type\": \"\",\n        \"description\": \"\"\n      }\n    },\n    {\n      \"column\": \"10\",\n      \"properties\": {\n        \"dtype\": \"number\",\n        \"std\": 1.4380884186229925,\n        \"min\": 0.5763566666666656,\n        \"max\": 5.012246666666663,\n        \"num_unique_values\": 8,\n        \"samples\": [\n          5.012246666666663,\n          2.3774066666666682,\n          4.448456666666669\n        ],\n        \"semantic_type\": \"\",\n        \"description\": \"\"\n      }\n    },\n    {\n      \"column\": \"15\",\n      \"properties\": {\n        \"dtype\": \"number\",\n        \"std\": 1.5408691416426215,\n        \"min\": -0.3967783333333342,\n        \"max\": 4.344905000000001,\n        \"num_unique_values\": 8,\n        \"samples\": [\n          3.5359866666666644,\n          1.8953000000000009,\n          4.344905000000001\n        ],\n        \"semantic_type\": \"\",\n        \"description\": \"\"\n      }\n    },\n    {\n      \"column\": \"20\",\n      \"properties\": {\n        \"dtype\": \"number\",\n        \"std\": 0.8083393257725834,\n        \"min\": 0.5144066666666708,\n        \"max\": 3.004123333333334,\n        \"num_unique_values\": 8,\n        \"samples\": [\n          2.5156366666666647,\n          2.064523333333337,\n          3.004123333333334\n        ],\n        \"semantic_type\": \"\",\n        \"description\": \"\"\n      }\n    },\n    {\n      \"column\": \"30\",\n      \"properties\": {\n        \"dtype\": \"number\",\n        \"std\": 1.1486489663955624,\n        \"min\": 0.6103316666666665,\n        \"max\": 4.254885000000008,\n        \"num_unique_values\": 8,\n        \"samples\": [\n          3.2828266666666694,\n          2.6172500000000025,\n          4.254885000000008\n        ],\n        \"semantic_type\": \"\",\n        \"description\": \"\"\n      }\n    },\n    {\n      \"column\": \"60\",\n      \"properties\": {\n        \"dtype\": \"number\",\n        \"std\": 0.6718903100616661,\n        \"min\": 0.8944966666666692,\n        \"max\": 2.981463333333336,\n        \"num_unique_values\": 8,\n        \"samples\": [\n          2.3774066666666682,\n          2.940193333333335,\n          2.981463333333336\n        ],\n        \"semantic_type\": \"\",\n        \"description\": \"\"\n      }\n    },\n    {\n      \"column\": \"90\",\n      \"properties\": {\n        \"dtype\": \"number\",\n        \"std\": 1.2503486974678404,\n        \"min\": 0.03634666666666542,\n        \"max\": 4.434833333333334,\n        \"num_unique_values\": 8,\n        \"samples\": [\n          1.777713333333332,\n          2.250946666666671,\n          0.03634666666666542\n        ],\n        \"semantic_type\": \"\",\n        \"description\": \"\"\n      }\n    },\n    {\n      \"column\": \"120\",\n      \"properties\": {\n        \"dtype\": \"number\",\n        \"std\": 0.9651957307428601,\n        \"min\": -0.3967783333333342,\n        \"max\": 2.3642216666666633,\n        \"num_unique_values\": 8,\n        \"samples\": [\n          0.5763566666666656,\n          0.8944966666666692,\n          -0.22981833333333312\n        ],\n        \"semantic_type\": \"\",\n        \"description\": \"\"\n      }\n    }\n  ]\n}"
            }
          },
          "metadata": {},
          "execution_count": 85
        }
      ]
    },
    {
      "cell_type": "markdown",
      "source": [
        "However, in the R reference\n",
        "$S_{pooled} = \\frac{(n_R-1)S_R + (n_T-1)S_T}{n_R + n_T -2}$"
      ],
      "metadata": {
        "id": "7ArQWnjB2u4y"
      }
    },
    {
      "cell_type": "code",
      "source": [
        "x2_x1 = list(test_df.mean(axis=0)[time_points] - ref_df.mean(axis=0)[time_points])\n",
        "a = np.array(x2_x1).reshape(len(time_points),1)"
      ],
      "metadata": {
        "id": "wG4qMTRbjM1F"
      },
      "execution_count": null,
      "outputs": []
    },
    {
      "cell_type": "code",
      "source": [
        "K = n**2/(2*n)* (2*n - P - 1) / ((2*n - 2) * P)\n",
        "K"
      ],
      "metadata": {
        "colab": {
          "base_uri": "https://localhost:8080/"
        },
        "id": "DH-dZhBMkBpa",
        "outputId": "a742e1f0-2f96-4a23-b193-020294166a89"
      },
      "execution_count": null,
      "outputs": [
        {
          "output_type": "execute_result",
          "data": {
            "text/plain": [
              "1.35"
            ]
          },
          "metadata": {},
          "execution_count": 87
        }
      ]
    },
    {
      "cell_type": "markdown",
      "source": [
        "F distribution with degrees P and 2n-P-1, 90 percentile"
      ],
      "metadata": {
        "id": "Hm6koFQZtz4U"
      }
    },
    {
      "cell_type": "code",
      "source": [
        "# F_2_9_90 = 3.0065\n",
        "\n",
        "# Determine the F critical value\n",
        "Fcrit = scipy.stats.f.ppf(q=1-.1, dfn=P, dfd=2*n-P-1)"
      ],
      "metadata": {
        "id": "w9pMYWmjtzSS"
      },
      "execution_count": null,
      "outputs": []
    },
    {
      "cell_type": "code",
      "source": [
        "spinv = np.linalg.inv(S_pooled.loc[time_points , time_points])\n",
        "D_M = np.sqrt(a.T @ spinv @ a)[0][0]\n",
        "D_M"
      ],
      "metadata": {
        "colab": {
          "base_uri": "https://localhost:8080/"
        },
        "id": "GQuonodpucgX",
        "outputId": "acdec502-03c3-4359-9c57-9f49e6c7a0c4"
      },
      "execution_count": null,
      "outputs": [
        {
          "output_type": "execute_result",
          "data": {
            "text/plain": [
              "10.440448914919306"
            ]
          },
          "metadata": {},
          "execution_count": 89
        }
      ]
    },
    {
      "cell_type": "code",
      "source": [
        "# Assume tolerance is 15%\n",
        "\n",
        "D_g = np.array([15] * len(time_points)).reshape(len(time_points), 1)\n",
        "RD = np.sqrt(D_g.T @ spinv @ D_g)[0][0]\n",
        "RD"
      ],
      "metadata": {
        "colab": {
          "base_uri": "https://localhost:8080/"
        },
        "id": "3MjJFTudug2r",
        "outputId": "27e20860-cca6-479c-f96c-5edc98b9b798"
      },
      "execution_count": null,
      "outputs": [
        {
          "output_type": "execute_result",
          "data": {
            "text/plain": [
              "9.630776502154019"
            ]
          },
          "metadata": {},
          "execution_count": 90
        }
      ]
    },
    {
      "cell_type": "markdown",
      "source": [
        "$CR = K(y-a)^\\top S_{pooled}^{-1} (y-a) \\leq F$, a is the test-ref difference\n",
        "\n",
        "let $M = S^{-1}_{pooled}$\n",
        "\n",
        "the aim is to calculate the upper and lower bound for $\\sqrt{ y^\\top M y}$,\n",
        "which is the same as to find the optimum for $y^\\top M y$\n",
        "\n",
        "Use Lagrange Multiplier method:\n",
        "\n",
        "\\begin{*align}\n",
        "    L(y, \\lambda) &= y^\\top M y - \\lambda ((y-a)^\\top M (y-a) - F/K) \\\\\n",
        "    \\frac{\\partial L}{\\partial y} & = 2 M y - \\lambda (2My-2Ma) = 0 \\\\\n",
        "    y & = \\frac{\\lambda a}{\\lambda - 1} = (1 + \\frac{1}{\\lambda - 1})a  \n",
        "\\end{*align}\n",
        "Apply back to CR equation\n",
        "\\begin{*align}\n",
        "    y - a & = \\frac{1}{\\lambda - 1} a \\\\\n",
        "    (\\frac{1}{\\lambda - 1} a)^\\top M \\frac{1}{\\lambda - 1} a & = \\frac{F}{K} \\\\\n",
        "    (\\frac{1}{\\lambda - 1})^2 a^\\top M a &= \\frac{F}{K} \\\\\n",
        "    \\frac{1}{\\lambda - 1} & = \\pm \\sqrt{\\frac{F}{Ka^\\top Ma}} \\\\\n",
        "    then \\quad y & = a(1 \\pm \\sqrt{\\frac{F}{Ka^\\top Ma}})  \n",
        "\\end{*align}\n",
        "which is the bound1 and bound2 calculated below"
      ],
      "metadata": {
        "id": "3pCLR-hcGcQd"
      }
    },
    {
      "cell_type": "code",
      "source": [
        "bound1 = a @ (1 + np.sqrt(Fcrit/(K * a.T @ spinv @ a)))\n",
        "bound2 = a @ (1 - np.sqrt(Fcrit/(K * a.T @ spinv @ a)))\n",
        "# 90% CI of Mahalanobis distance:\n",
        "DM_1 = np.sqrt(bound1.T @ spinv @ bound1)[0][0]\n",
        "DM_2 = np.sqrt(bound2.T @ spinv @ bound2)[0][0]\n",
        "DM_upper = max(DM_1, DM_2)\n",
        "if DM_upper <= RD:\n",
        "    print('Similar')\n",
        "else:\n",
        "    print('not similar')"
      ],
      "metadata": {
        "colab": {
          "base_uri": "https://localhost:8080/"
        },
        "id": "0rYWGBa2uvAF",
        "outputId": "f2e06f68-2be4-46f5-f8e2-13efc951385c"
      },
      "execution_count": null,
      "outputs": [
        {
          "output_type": "stream",
          "name": "stdout",
          "text": [
            "not similar\n"
          ]
        }
      ]
    },
    {
      "cell_type": "markdown",
      "source": [
        "### Comparing all eight time points"
      ],
      "metadata": {
        "id": "-JbcQj2hEb9h"
      }
    },
    {
      "cell_type": "code",
      "source": [
        "time_points = list(ref_df.columns)\n",
        "P = len(time_points)\n",
        "n = len(ref_df)\n",
        "S1 = ref_df.cov()\n",
        "S2 = test_df.cov()\n",
        "S_pooled = (S1 + S2) / 2\n",
        "x2_x1 = list(test_df.mean(axis=0)[time_points] - ref_df.mean(axis=0)[time_points])\n",
        "a = np.array(x2_x1).reshape(len(time_points), 1)\n",
        "K = n**2/(2*n)* (2*n - P - 1) / ((2*n - 2) * P)\n",
        "Fcrit = scipy.stats.f.ppf(q=1-.1, dfn=P, dfd=2*n-P-1)\n",
        "spinv = np.linalg.inv(S_pooled.loc[time_points , time_points])\n",
        "D_M = np.sqrt(a.T @ spinv @ a)[0][0]\n",
        "print('Mahalanobis distance between T and R:', D_M)\n",
        "# Assume tolerance is 15%\n",
        "D_g = np.array([15] * len(time_points)).reshape(len(time_points), 1)\n",
        "\n",
        "RD = np.sqrt(D_g.T @ spinv @ D_g)[0][0]\n",
        "bound1 = a @ (1 + np.sqrt(Fcrit/(K * a.T @ spinv @ a)))\n",
        "bound2 = a @ (1 - np.sqrt(Fcrit/(K * a.T @ spinv @ a)))\n",
        "# 90% CI of Mahalanobis distance:\n",
        "DM_1 = np.sqrt(bound1.T @ spinv @ bound1)[0][0]\n",
        "DM_2 = np.sqrt(bound2.T @ spinv @ bound2)[0][0]\n",
        "DM_upper = max(DM_1, DM_2)\n",
        "DM_lower = min(DM_1, DM_2)\n",
        "print('upper bound of DM:', DM_upper)\n",
        "print('Maximum Mahalanobis distance at 15% tolerance:', RD)\n",
        "if DM_upper <= RD:\n",
        "    print('Similar')\n",
        "else:\n",
        "    print('not similar')"
      ],
      "metadata": {
        "colab": {
          "base_uri": "https://localhost:8080/"
        },
        "id": "UdGMuX8REbkQ",
        "outputId": "822e8942-541d-4a7c-a15f-89019f90f531"
      },
      "execution_count": 96,
      "outputs": [
        {
          "output_type": "stream",
          "name": "stdout",
          "text": [
            "Mahalanobis distance between T and R: 26.07918991319184\n",
            "upper bound of DM: 32.91157754304976\n",
            "Maximum Mahalanobis distance at 15% tolerance: 32.357455388854085\n",
            "not similar\n"
          ]
        }
      ]
    }
  ]
}