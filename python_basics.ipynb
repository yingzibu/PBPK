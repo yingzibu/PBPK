{
  "nbformat": 4,
  "nbformat_minor": 0,
  "metadata": {
    "colab": {
      "provenance": [],
      "authorship_tag": "ABX9TyPRsw2auoOT/aPvb/PTEUOz",
      "include_colab_link": true
    },
    "kernelspec": {
      "name": "python3",
      "display_name": "Python 3"
    },
    "language_info": {
      "name": "python"
    }
  },
  "cells": [
    {
      "cell_type": "markdown",
      "metadata": {
        "id": "view-in-github",
        "colab_type": "text"
      },
      "source": [
        "<a href=\"https://colab.research.google.com/github/yingzibu/PBPK/blob/main/python_basics.ipynb\" target=\"_parent\"><img src=\"https://colab.research.google.com/assets/colab-badge.svg\" alt=\"Open In Colab\"/></a>"
      ]
    },
    {
      "cell_type": "code",
      "source": [
        "print('Hello World!')"
      ],
      "metadata": {
        "id": "RoM3A99acpr8"
      },
      "execution_count": null,
      "outputs": []
    },
    {
      "cell_type": "code",
      "source": [
        "print(\"Hello World!\") # quote mark does not matter, as long as it's consistent"
      ],
      "metadata": {
        "id": "_Cv75UCqjIaz"
      },
      "execution_count": null,
      "outputs": []
    },
    {
      "cell_type": "code",
      "source": [
        "# print(\"Hello World!\")"
      ],
      "metadata": {
        "id": "WZDTDUbKiRzy"
      },
      "execution_count": null,
      "outputs": []
    },
    {
      "cell_type": "code",
      "source": [
        "print('Hello World\")"
      ],
      "metadata": {
        "id": "sj4EPfLxiJI9"
      },
      "execution_count": null,
      "outputs": []
    },
    {
      "cell_type": "markdown",
      "source": [
        "### variables, type of variables"
      ],
      "metadata": {
        "id": "o_zRzqJ5cKVI"
      }
    },
    {
      "cell_type": "code",
      "source": [
        "a = 1.0 # a is a float number\n",
        "b = '1' # b is a string\n",
        "c = 'Hello World!' # c is a string\n",
        "\n",
        "print(type(c))\n",
        "print(c)"
      ],
      "metadata": {
        "id": "tShXYNC9cFY-"
      },
      "execution_count": null,
      "outputs": []
    },
    {
      "cell_type": "code",
      "execution_count": null,
      "metadata": {
        "id": "h7_v00lHcDTL"
      },
      "outputs": [],
      "source": [
        "print(\"a:\", a, \" type:\", type(a))"
      ]
    },
    {
      "cell_type": "code",
      "source": [
        "\"\"\"\n",
        "Example 1: print b and the type of b\n",
        "Example output: 1 <class 'str'>\n",
        "\"\"\"\n",
        "b = \"1\"\n",
        "### ENTER YOUR CODE ###\n",
        "\n",
        "#######################"
      ],
      "metadata": {
        "id": "gkJS6z2VdUHI"
      },
      "execution_count": null,
      "outputs": []
    },
    {
      "cell_type": "markdown",
      "source": [
        "### check the relations between variables"
      ],
      "metadata": {
        "id": "gJPKHkiSc0FU"
      }
    },
    {
      "cell_type": "code",
      "source": [
        "a = 1\n",
        "b = '1'\n",
        "\n",
        "a == b # 2 equal signs, check whether a is the same as b\n",
        "       # False, but why?"
      ],
      "metadata": {
        "id": "gohlKXj7cjDa"
      },
      "execution_count": null,
      "outputs": []
    },
    {
      "cell_type": "code",
      "source": [
        "\"Summer\" == \"summer\" # capital matters"
      ],
      "metadata": {
        "id": "lOMK25uWimmz"
      },
      "execution_count": null,
      "outputs": []
    },
    {
      "cell_type": "code",
      "source": [
        "\"summer\" == 'summer' # quote mark does not matter, as long as it's consistent"
      ],
      "metadata": {
        "id": "HGlP8q8Si55H"
      },
      "execution_count": null,
      "outputs": []
    },
    {
      "cell_type": "code",
      "source": [
        "a = 1\n",
        "d = 2\n",
        "\n",
        "a < d, a >= d, a != d"
      ],
      "metadata": {
        "id": "A_YTX7Nnc-N2"
      },
      "execution_count": null,
      "outputs": []
    },
    {
      "cell_type": "code",
      "source": [
        "a + d, a - d, a * d, a / d, a**d"
      ],
      "metadata": {
        "id": "NXnBg4m3e1EZ"
      },
      "execution_count": null,
      "outputs": []
    },
    {
      "cell_type": "markdown",
      "source": [
        "### function"
      ],
      "metadata": {
        "id": "dduGPl7ffrAG"
      }
    },
    {
      "cell_type": "code",
      "source": [
        "\"\"\"\n",
        "write a function that takes 2 numbers as input, output the sum\n",
        "\"\"\"\n",
        "def addition(a, b):\n",
        "    output = a + b\n",
        "    return output\n",
        "\n",
        "temp = addition(1, 2)\n",
        "print(temp)"
      ],
      "metadata": {
        "id": "13xhIeuffvJ7"
      },
      "execution_count": null,
      "outputs": []
    },
    {
      "cell_type": "code",
      "source": [
        "\"\"\"\n",
        "Example 2: write a function that takes 2 numbers as input, output the multiplication\n",
        "Example function: multiply(3, 1.5)\n",
        "Example output:   4.5\n",
        "\"\"\"\n",
        "### ENTER YOUR CODE ###\n",
        "def multiply(var1, var2):\n",
        "\n",
        "#######################\n",
        "print(multiply(3, 1.5))"
      ],
      "metadata": {
        "id": "tx6Y6vCFgKv7"
      },
      "execution_count": null,
      "outputs": []
    },
    {
      "cell_type": "markdown",
      "source": [
        "### list and dictionary"
      ],
      "metadata": {
        "id": "gj42jYhru7D0"
      }
    },
    {
      "cell_type": "code",
      "source": [
        "list_here = [5, 2, 3, 4, 1]\n",
        "# index.     0  1  2  3  4\n",
        "#           -5 -4 -3 -2 -1\n",
        "print(type(list_here))\n",
        "print(list_here[0])\n",
        "print(list_here[:3])"
      ],
      "metadata": {
        "id": "jUfLoJxYu8uY"
      },
      "execution_count": null,
      "outputs": []
    },
    {
      "cell_type": "code",
      "source": [
        "list_here[-1], list_here[:-1]"
      ],
      "metadata": {
        "id": "lQxvyR0N1EAB"
      },
      "execution_count": null,
      "outputs": []
    },
    {
      "cell_type": "code",
      "source": [
        "dict_here = {'apple': 'fruit',\n",
        "             'soccer': 'sport',\n",
        "             'banana': 'fruit'} # key: value\n",
        "print(dict_here['apple'])"
      ],
      "metadata": {
        "id": "pJtE-sj-vHBi"
      },
      "execution_count": null,
      "outputs": []
    },
    {
      "cell_type": "markdown",
      "source": [
        "### for loop"
      ],
      "metadata": {
        "id": "oY1UYjLfefU4"
      }
    },
    {
      "cell_type": "code",
      "source": [
        "list_1 = [0, 2, 3, 4, 1]\n",
        "for i in list_1: # go through the items in the list one by one\n",
        "    print(i)"
      ],
      "metadata": {
        "id": "9r6kEyqUdFqa"
      },
      "execution_count": null,
      "outputs": []
    },
    {
      "cell_type": "code",
      "source": [
        "list_2 = [2, 9, 12, 3, 2]\n",
        "for i, j in zip(list_1, list_2):\n",
        "    print(i, j)"
      ],
      "metadata": {
        "id": "aJ7_l6KifUyE"
      },
      "execution_count": null,
      "outputs": []
    },
    {
      "cell_type": "code",
      "source": [
        "dict_here = {'apple': 'fruit',\n",
        "             'soccer': 'sport',\n",
        "             'banana': 'fruit'} # key: value\n",
        "for i, j in dict_here.items():\n",
        "    print(i, j)"
      ],
      "metadata": {
        "id": "sZMbJzMvqqxv"
      },
      "execution_count": null,
      "outputs": []
    },
    {
      "cell_type": "markdown",
      "source": [
        "### if, elif, else"
      ],
      "metadata": {
        "id": "msynuWZJg5ZZ"
      }
    },
    {
      "cell_type": "code",
      "source": [
        "\"\"\"\n",
        "have a variable season_now,\n",
        "    if season_now is summer, print \"hot\"\n",
        "    if season_now is winter, print \"cold\"\n",
        "    else, print \"cool\"\n",
        "\"\"\"\n",
        "\n",
        "season_now = 'autumn'\n",
        "\n",
        "if season_now == 'summer':\n",
        "    print('hot')\n",
        "elif season_now == 'winter':\n",
        "    print('cold')\n",
        "else:\n",
        "    print('cool')"
      ],
      "metadata": {
        "id": "vAJ73QMyfiN_"
      },
      "execution_count": null,
      "outputs": []
    },
    {
      "cell_type": "code",
      "source": [
        "\"\"\"\n",
        "Define a function with an input of season, output its weather\n",
        "\"\"\"\n",
        "def weather(season_here):\n",
        "    if season_here == 'summer':\n",
        "        print('hot')\n",
        "    elif season_here == 'winter':\n",
        "        print('cold')\n",
        "    else:\n",
        "        print('cool')\n",
        "\n",
        "weather('winter')\n",
        "\n",
        "# weather('spring')"
      ],
      "metadata": {
        "id": "DBjYPjlahUng"
      },
      "execution_count": null,
      "outputs": []
    },
    {
      "cell_type": "code",
      "source": [
        "\"\"\"\n",
        "write a function with an input (type: float),\n",
        "            if input > 50,   print: num > 50\n",
        "            elif input > 30, print: num in (30, 50]\n",
        "            else:            print: num <= 30\n",
        "\"\"\"\n",
        "\n",
        "def func_here(num_here):\n",
        "    if num_here > 50:\n",
        "        print(f'{num_here} > 50')\n",
        "    elif num_here > 30: # it already assumes that num_here <= 50\n",
        "        print(f\"{num_here} in (30, 50]\")\n",
        "    else:  # it assumes that num_here <= 30\n",
        "        print(f'{num_here} <= 30')\n",
        "\n",
        "func_here(34)"
      ],
      "metadata": {
        "id": "hjALUZVlkdxp"
      },
      "execution_count": null,
      "outputs": []
    },
    {
      "cell_type": "code",
      "source": [
        "\"\"\"\n",
        "Example 3: write a function with an input (type: float),\n",
        "            if input > 60,   print:  > 60\n",
        "            else:            print:  <= 60\n",
        "\"\"\"\n",
        "### ENTER YOUR CODE ###\n",
        "\n",
        "\n",
        "#######################"
      ],
      "metadata": {
        "id": "wymyPYgVlxX9"
      },
      "execution_count": null,
      "outputs": []
    },
    {
      "cell_type": "markdown",
      "source": [
        "### plot data"
      ],
      "metadata": {
        "id": "Nxz76zMkpHQB"
      }
    },
    {
      "cell_type": "code",
      "source": [
        "import matplotlib\n",
        "matplotlib.rcParams['figure.figsize'] = (5.5,3)\n",
        "import matplotlib.pyplot as plt\n",
        "xs = [1, 2, 3, 5.5, 7]\n",
        "ys = [3, 4, 10, 2.9, 2]\n",
        "plt.plot(xs, ys, label='y')\n",
        "plt.xlabel('time') # specify the x axis label\n",
        "plt.ylabel('conc') # specify y axis label\n",
        "plt.title('conc vs time curve') # specify the title\n",
        "plt.legend() # show label of the line\n",
        "plt.show(); plt.close()"
      ],
      "metadata": {
        "id": "1_CB3Zigo8pF"
      },
      "execution_count": null,
      "outputs": []
    },
    {
      "cell_type": "markdown",
      "source": [
        "### Class"
      ],
      "metadata": {
        "id": "7KwSQN3DqW3R"
      }
    },
    {
      "cell_type": "code",
      "source": [
        "JOB_A = {'hourpay': 200,\n",
        "         'overtime': 50}\n",
        "JOB_B = {'hourpay': 28,\n",
        "         'overtime': 100}\n",
        "\n",
        "EMP_1 = [50, 42, 36, 46] # week hours, 4 weeks\n",
        "EMP_2 = [13.4, 20.5, 16.8, 27]\n",
        "\n",
        "# We want to plot the week workload\n",
        "# and also calculate the salary for the month\n",
        "class salary:\n",
        "    def __init__(self, hour_list, job):\n",
        "        self.hour_list = hour_list\n",
        "        self.job = job\n",
        "\n",
        "    def view_workload(self, xlabel='week', ylabel='hours', title='workload'):\n",
        "        week = [1, 2, 3, 4]\n",
        "        plt.plot(week, self.hour_list)\n",
        "        plt.xlabel(xlabel);\n",
        "        plt.ylabel(ylabel);\n",
        "        plt.title(title)\n",
        "        plt.show(); plt.close()\n",
        "\n",
        "    def month_pay(self):\n",
        "        total_hours = 0\n",
        "        for i in self.hour_list:\n",
        "            total_hours += i\n",
        "        overtime = total_hours - 160\n",
        "        monthpay = self.job['hourpay'] * 160\n",
        "        if overtime > 0:\n",
        "            monthpay += overtime * self.job['overtime']\n",
        "        print('month payment is ', monthpay)\n",
        "        return monthpay"
      ],
      "metadata": {
        "id": "2BbV_6s-puP8"
      },
      "execution_count": null,
      "outputs": []
    },
    {
      "cell_type": "code",
      "source": [
        "var_here = salary(EMP_1, JOB_A)\n",
        "var_here.month_pay()\n",
        "var_here.view_workload()\n",
        "# var_here.view_workload(title='workload for August')"
      ],
      "metadata": {
        "id": "ptys2yV7tVKw"
      },
      "execution_count": null,
      "outputs": []
    },
    {
      "cell_type": "code",
      "source": [
        "\"\"\"\n",
        "Example 4: check EMP_2 with JOB_B, plot the workload and calculate the salary\n",
        "\"\"\"\n",
        "### ENTER YOUR CODE ###\n",
        "\n",
        "\n",
        "#######################"
      ],
      "metadata": {
        "id": "_mWS4tdGuLmt"
      },
      "execution_count": null,
      "outputs": []
    },
    {
      "cell_type": "code",
      "source": [],
      "metadata": {
        "id": "nmOZuoq9xAx5"
      },
      "execution_count": null,
      "outputs": []
    }
  ]
}